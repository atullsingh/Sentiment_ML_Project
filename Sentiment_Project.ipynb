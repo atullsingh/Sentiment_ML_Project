{
 "cells": [
  {
   "cell_type": "markdown",
   "id": "6e9283f6",
   "metadata": {},
   "source": [
    "# Predicting a review is a Positive or Negative review\n",
    "Data contains book reviews taken from amazon "
   ]
  },
  {
   "cell_type": "code",
   "execution_count": 1,
   "id": "aefc29d2",
   "metadata": {},
   "outputs": [],
   "source": [
    "import random\n",
    "\n",
    "class Sentiment:\n",
    "    Negative = \"NEGATIVE\"\n",
    "    Neutral = \"NEUTRAL\"\n",
    "    Positive = \"POSITIVE\"\n",
    "\n",
    "class Review:\n",
    "    def __init__(self, text, score):\n",
    "        self.text = text\n",
    "        self.score = score\n",
    "        self.sentiment = self.get_sentiment()\n",
    "        \n",
    "    def get_sentiment(self): ## Method for defining what stars are taken as negative/positive reviews\n",
    "        if self.score <= 2:\n",
    "            return Sentiment.Negative\n",
    "        elif self.score >= 4:\n",
    "            return Sentiment.Positive\n",
    "        else: \n",
    "            return Sentiment.Neutral\n",
    "\n",
    "class ReviewContainer:\n",
    "    def __init__(self, reviews):\n",
    "        self.reviews = reviews\n",
    "        \n",
    "    def get_text(self):\n",
    "        return [x.text for x in self.reviews]\n",
    "    \n",
    "    def get_sentiment(self):\n",
    "        return [x.sentiment for x in self.reviews]\n",
    "    \n",
    "    def evenly_distribute(self): ## Getting Equal numbers of negative and positive sentiments\n",
    "        negative = list(filter(lambda x: x.sentiment == Sentiment.Negative, self.reviews))\n",
    "        positive = list(filter(lambda x: x.sentiment == Sentiment.Positive, self.reviews))\n",
    "        neutral = list(filter(lambda x: x.sentiment == Sentiment.Neutral, self.reviews))\n",
    "        positive_shrunk = positive[:len(negative)]\n",
    "        self.reviews = negative + positive_shrunk \n",
    "        random.shuffle(self.reviews)\n",
    "        "
   ]
  },
  {
   "cell_type": "code",
   "execution_count": 2,
   "id": "94e5843f",
   "metadata": {},
   "outputs": [],
   "source": [
    "# importing data\n",
    "import json\n",
    "file_name = './sklearn/data/Books_small_10000.json'\n",
    "review = []\n",
    "with open(file_name) as f:\n",
    "    for line in f:\n",
    "        text = json.loads(line)\n",
    "        review.append(Review(text['reviewText'], text['overall'])) # Getting only reviews and stars from the data\n"
   ]
  },
  {
   "cell_type": "markdown",
   "id": "dd99ebe6",
   "metadata": {},
   "source": [
    "## Splitting data in test and training sets"
   ]
  },
  {
   "cell_type": "code",
   "execution_count": 3,
   "id": "238a3788",
   "metadata": {},
   "outputs": [],
   "source": [
    "\n",
    "from sklearn.model_selection import train_test_split\n",
    "training, test = train_test_split(review, test_size = 0.30 , random_state = 42)\n",
    "train_container = ReviewContainer(training)\n",
    "test_container = ReviewContainer(test)"
   ]
  },
  {
   "cell_type": "markdown",
   "id": "5eb3ffa0",
   "metadata": {},
   "source": [
    "### Solving Unbalanced dataset problem"
   ]
  },
  {
   "cell_type": "code",
   "execution_count": 4,
   "id": "96f6b52e",
   "metadata": {},
   "outputs": [
    {
     "name": "stdout",
     "output_type": "stream",
     "text": [
      "461\n",
      "461\n",
      "0\n"
     ]
    }
   ],
   "source": [
    "# taking equal numbers of negative and positive reviews\n",
    "train_container.evenly_distribute()\n",
    "train_x = train_container.get_text()\n",
    "train_y = train_container.get_sentiment()\n",
    "\n",
    "test_container.evenly_distribute()\n",
    "test_x = test_container.get_text()\n",
    "test_y = test_container.get_sentiment()\n",
    "\n",
    "print(train_y.count(Sentiment.Positive))\n",
    "print(train_y.count(Sentiment.Negative))\n",
    "print(train_y.count(Sentiment.Neutral))"
   ]
  },
  {
   "cell_type": "markdown",
   "id": "1f48a010",
   "metadata": {},
   "source": [
    "### Converting text into vectors"
   ]
  },
  {
   "cell_type": "code",
   "execution_count": 7,
   "id": "29fa4f7d",
   "metadata": {},
   "outputs": [],
   "source": [
    "## Bag of words vectorization\n",
    "from sklearn.feature_extraction.text import TfidfVectorizer\n",
    "\n",
    "vectorizer = TfidfVectorizer()\n",
    "train_x_vector = vectorizer.fit_transform(train_x)\n",
    "test_x_vector = vectorizer.transform(test_x)\n"
   ]
  },
  {
   "cell_type": "markdown",
   "id": "80e7502e",
   "metadata": {},
   "source": [
    " # Classification\n",
    "### Linear SVM"
   ]
  },
  {
   "cell_type": "code",
   "execution_count": 8,
   "id": "00e1d692",
   "metadata": {},
   "outputs": [
    {
     "data": {
      "text/plain": [
       "array(['NEGATIVE'], dtype='<U8')"
      ]
     },
     "execution_count": 8,
     "metadata": {},
     "output_type": "execute_result"
    }
   ],
   "source": [
    "from sklearn import svm\n",
    "clf_svm = svm.SVC(kernel = 'linear')\n",
    "clf_svm.fit(train_x_vector, train_y)\n",
    "clf_svm.predict(test_x_vector[0])"
   ]
  },
  {
   "cell_type": "markdown",
   "id": "36948312",
   "metadata": {},
   "source": [
    "### Random Forest"
   ]
  },
  {
   "cell_type": "code",
   "execution_count": 9,
   "id": "2ae7390c",
   "metadata": {},
   "outputs": [
    {
     "data": {
      "text/plain": [
       "array(['NEGATIVE'], dtype='<U8')"
      ]
     },
     "execution_count": 9,
     "metadata": {},
     "output_type": "execute_result"
    }
   ],
   "source": [
    "from sklearn.ensemble import RandomForestClassifier\n",
    "clf_dec = RandomForestClassifier()\n",
    "clf_dec.fit(train_x_vector, train_y)\n",
    "clf_dec.predict(test_x_vector[0])"
   ]
  },
  {
   "cell_type": "markdown",
   "id": "68fc16b3",
   "metadata": {},
   "source": [
    "### Logistic Regression"
   ]
  },
  {
   "cell_type": "code",
   "execution_count": 10,
   "id": "0ae86bc5",
   "metadata": {},
   "outputs": [
    {
     "data": {
      "text/plain": [
       "array(['NEGATIVE'], dtype='<U8')"
      ]
     },
     "execution_count": 10,
     "metadata": {},
     "output_type": "execute_result"
    }
   ],
   "source": [
    "from sklearn.linear_model import LogisticRegression\n",
    "clf_log = LogisticRegression()\n",
    "clf_log.fit(train_x_vector, train_y)\n",
    "clf_svm.predict(test_x_vector[0])\n"
   ]
  },
  {
   "cell_type": "code",
   "execution_count": 12,
   "id": "4022c57e",
   "metadata": {},
   "outputs": [
    {
     "data": {
      "text/plain": [
       "array(['NEGATIVE'], dtype='<U8')"
      ]
     },
     "execution_count": 12,
     "metadata": {},
     "output_type": "execute_result"
    }
   ],
   "source": [
    "from sklearn.naive_bayes import MultinomialNB\n",
    ">>> clf_nb = MultinomialNB()\n",
    ">>> clf_nb.fit(train_x_vector, train_y)\n",
    "clf_nb.predict(test_x_vector[0])"
   ]
  },
  {
   "cell_type": "markdown",
   "id": "cbb8c6f2",
   "metadata": {},
   "source": [
    "## Evaluating The Models"
   ]
  },
  {
   "cell_type": "code",
   "execution_count": 13,
   "id": "403f513e",
   "metadata": {},
   "outputs": [
    {
     "name": "stdout",
     "output_type": "stream",
     "text": [
      "Linear SVM:  0.8387978142076503\n",
      "Random Forest:  0.7868852459016393\n",
      "Logistic Regression:  0.8224043715846995\n",
      "Naive Bayes Classifier:  0.8224043715846995\n"
     ]
    }
   ],
   "source": [
    "# Mean Accuracy\n",
    "print(\"Linear SVM: \",clf_svm.score(test_x_vector,test_y))  \n",
    "print(\"Random Forest: \",clf_dec.score(test_x_vector,test_y))   \n",
    "print(\"Logistic Regression: \",clf_log.score(test_x_vector,test_y))\n",
    "print(\"Naive Bayes Classifier: \",clf_nb.score(test_x_vector,test_y))\n",
    "\n"
   ]
  },
  {
   "cell_type": "markdown",
   "id": "0dbfb691",
   "metadata": {},
   "source": [
    "#### Linear SVM has highest accuracy"
   ]
  },
  {
   "cell_type": "markdown",
   "id": "751bbc84",
   "metadata": {},
   "source": [
    "### Testing"
   ]
  },
  {
   "cell_type": "code",
   "execution_count": 12,
   "id": "4908f8ec",
   "metadata": {},
   "outputs": [
    {
     "data": {
      "text/plain": [
       "array(['NEGATIVE', 'NEGATIVE', 'POSITIVE'], dtype='<U8')"
      ]
     },
     "execution_count": 12,
     "metadata": {},
     "output_type": "execute_result"
    }
   ],
   "source": [
    "\n",
    "test_set = ['okay okay', \"bad book do not buy\", ' I can say if you are looking for a decent watch in this price go for it . I loved the features. Sound quality is good . For fitness measure purposes we can use this watch .You can see notifications on the watch .Go for it']\n",
    "new_test = vectorizer.transform(test_set)\n",
    "\n",
    "clf_svm.predict(new_test)"
   ]
  },
  {
   "cell_type": "markdown",
   "id": "03d09075",
   "metadata": {},
   "source": [
    "#### Models are performing good only for one case (when reviews are Positive)"
   ]
  },
  {
   "cell_type": "markdown",
   "id": "d39ac115",
   "metadata": {},
   "source": [
    "### Issue: In test data we have very low numbers of Negative and Positive reviews\n",
    "So , added more data with equal numbers of positive and negative reviews"
   ]
  },
  {
   "cell_type": "markdown",
   "id": "252ff1ed",
   "metadata": {},
   "source": [
    "\n",
    "\n",
    "### Hyperparameter tuining SVM using Grid Search \n"
   ]
  },
  {
   "cell_type": "code",
   "execution_count": 18,
   "id": "933968d9",
   "metadata": {},
   "outputs": [
    {
     "name": "stdout",
     "output_type": "stream",
     "text": [
      "Score:  0.8415300546448088\n"
     ]
    }
   ],
   "source": [
    "from sklearn.model_selection import GridSearchCV\n",
    "\n",
    "parameters = {'kernel': ('linear', 'rbf'), 'C': (1,4,8,16,32)} # Providing different parameters to choose from\n",
    "\n",
    "clf_svm = svm.SVC()\n",
    "clf1 = GridSearchCV(clf_svm, parameters, cv=5)\n",
    "clf1.fit(train_x_vector, train_y)\n",
    "print(\"Score: \",clf1.score(test_x_vector,test_y))## Score Improved\n"
   ]
  },
  {
   "cell_type": "code",
   "execution_count": 19,
   "id": "ad59228e",
   "metadata": {},
   "outputs": [
    {
     "name": "stdout",
     "output_type": "stream",
     "text": [
      "Cross-Validation Accuracy Scores [0.77297297 0.85945946 0.82065217 0.85869565 0.8423913 ]\n"
     ]
    }
   ],
   "source": [
    "from sklearn.model_selection import cross_val_score\n",
    "scores = cross_val_score(clf,train_x_vector, train_y, cv=5)\n",
    "print('Cross-Validation Accuracy Scores', scores)"
   ]
  },
  {
   "cell_type": "markdown",
   "id": "d39cc272",
   "metadata": {},
   "source": [
    "### HyperParameter Tuning Random Forest using Grid Search "
   ]
  },
  {
   "cell_type": "code",
   "execution_count": 15,
   "id": "fbc00ba5",
   "metadata": {},
   "outputs": [
    {
     "name": "stdout",
     "output_type": "stream",
     "text": [
      "Best Parameter Score:  0.8306010928961749\n"
     ]
    }
   ],
   "source": [
    "parameters = {'n_estimators': (10,100,500), 'max_features': (2,4,6)}\n",
    "clf_dec = RandomForestClassifier()\n",
    "clf = GridSearchCV(clf_dec, parameters, cv=5)\n",
    "clf.fit(train_x_vector, train_y)\n",
    "print(\"Best Parameter Score: \",clf.score(test_x_vector,test_y)) ## Score Improved"
   ]
  },
  {
   "cell_type": "code",
   "execution_count": 21,
   "id": "5638638a",
   "metadata": {},
   "outputs": [
    {
     "name": "stdout",
     "output_type": "stream",
     "text": [
      "Cross-Validation Accuracy Scores [0.81081081 0.84324324 0.8423913  0.83695652 0.84782609]\n"
     ]
    }
   ],
   "source": [
    "scores = cross_val_score(clf,train_x_vector, train_y, cv=5)\n",
    "print('Cross-Validation Accuracy Scores', scores)"
   ]
  },
  {
   "cell_type": "markdown",
   "id": "45128688",
   "metadata": {},
   "source": [
    "### Hyperparameter Tuining Naive Bayes"
   ]
  },
  {
   "cell_type": "code",
   "execution_count": 17,
   "id": "70a6c3a1",
   "metadata": {},
   "outputs": [
    {
     "name": "stdout",
     "output_type": "stream",
     "text": [
      "Best Parameter Score:  0.8224043715846995\n"
     ]
    }
   ],
   "source": [
    "parameters={'alpha': [0.00001, 0.0001, 0.001, 0.1, 1, 10]}\n",
    "clf_nb = MultinomialNB()\n",
    "clf = GridSearchCV(clf_nb, parameters, cv=5)\n",
    "clf.fit(train_x_vector, train_y)\n",
    "print(\"Best Parameter Score: \",clf.score(test_x_vector,test_y))"
   ]
  },
  {
   "cell_type": "code",
   "execution_count": null,
   "id": "26ce5112",
   "metadata": {},
   "outputs": [],
   "source": []
  },
  {
   "cell_type": "markdown",
   "id": "8f2062d5",
   "metadata": {},
   "source": [
    "### Confusion matrix for SVM"
   ]
  },
  {
   "cell_type": "code",
   "execution_count": 24,
   "id": "e3c119b0",
   "metadata": {},
   "outputs": [
    {
     "data": {
      "text/plain": [
       "array([[156,  27],\n",
       "       [ 31, 152]], dtype=int64)"
      ]
     },
     "execution_count": 24,
     "metadata": {},
     "output_type": "execute_result"
    }
   ],
   "source": [
    "from sklearn.metrics import confusion_matrix\n",
    "import seaborn as sns\n",
    "predict = clf1.predict(test_x_vector)\n",
    "metrics.confusion_matrix(test_y,predict)\n"
   ]
  },
  {
   "cell_type": "markdown",
   "id": "980ce124",
   "metadata": {},
   "source": [
    "## Saving Model"
   ]
  },
  {
   "cell_type": "code",
   "execution_count": 110,
   "id": "72fd8302",
   "metadata": {},
   "outputs": [],
   "source": [
    "import pickle\n",
    "\n",
    "with open('./sklearn/sentiment_classifier.pkl', 'wb') as f:\n",
    "    pickle.dump(clf, f)"
   ]
  },
  {
   "cell_type": "markdown",
   "id": "026876cc",
   "metadata": {},
   "source": [
    "#### Loading Model"
   ]
  },
  {
   "cell_type": "code",
   "execution_count": 111,
   "id": "0e8aa3d2",
   "metadata": {},
   "outputs": [],
   "source": [
    "with open('./sklearn/sentiment_classifier.pkl', 'rb') as f:\n",
    "    loaded_clf = pickle.load(f)"
   ]
  },
  {
   "cell_type": "code",
   "execution_count": null,
   "id": "676a79d5",
   "metadata": {},
   "outputs": [],
   "source": []
  },
  {
   "cell_type": "code",
   "execution_count": null,
   "id": "052c145e",
   "metadata": {},
   "outputs": [],
   "source": []
  },
  {
   "cell_type": "code",
   "execution_count": null,
   "id": "417feaaf",
   "metadata": {},
   "outputs": [],
   "source": []
  }
 ],
 "metadata": {
  "kernelspec": {
   "display_name": "Python 3 (ipykernel)",
   "language": "python",
   "name": "python3"
  },
  "language_info": {
   "codemirror_mode": {
    "name": "ipython",
    "version": 3
   },
   "file_extension": ".py",
   "mimetype": "text/x-python",
   "name": "python",
   "nbconvert_exporter": "python",
   "pygments_lexer": "ipython3",
   "version": "3.9.12"
  }
 },
 "nbformat": 4,
 "nbformat_minor": 5
}
