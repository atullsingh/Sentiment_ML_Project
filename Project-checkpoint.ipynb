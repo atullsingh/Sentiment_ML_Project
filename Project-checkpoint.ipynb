{
 "cells": [
  {
   "cell_type": "markdown",
   "id": "dc3610bb",
   "metadata": {},
   "source": [
    "# Predicting a review is a Positive or Negative review"
   ]
  },
  {
   "cell_type": "code",
   "execution_count": 68,
   "id": "aefc29d2",
   "metadata": {},
   "outputs": [],
   "source": [
    "import random\n",
    "\n",
    "class Sentiment:\n",
    "    Negative = \"NEGATIVE\"\n",
    "    Neutral = \"NEUTRAL\"\n",
    "    Positive = \"POSITIVE\"\n",
    "\n",
    "class Review:\n",
    "    def __init__(self, text, score):\n",
    "        self.text = text\n",
    "        self.score = score\n",
    "        self.sentiment = self.get_sentiment()\n",
    "        \n",
    "    def get_sentiment(self): ## Method for defining what stars are taken as negative/positive reviews\n",
    "        if self.score <= 2:\n",
    "            return Sentiment.Negative\n",
    "        elif self.score >= 4:\n",
    "            return Sentiment.Positive\n",
    "        else: \n",
    "            return Sentiment.Neutral\n",
    "\n",
    "class ReviewContainer:\n",
    "    def __init__(self, reviews):\n",
    "        self.reviews = reviews\n",
    "        \n",
    "    def get_text(self):\n",
    "        return [x.text for x in self.reviews]\n",
    "    \n",
    "    def get_sentiment(self):\n",
    "        return [x.sentiment for x in self.reviews]\n",
    "    \n",
    "    def evenly_distribute(self): ## Getting Equal numbers of negative and positive sentiments\n",
    "        negative = list(filter(lambda x: x.sentiment == Sentiment.Negative, self.reviews))\n",
    "        positive = list(filter(lambda x: x.sentiment == Sentiment.Positive, self.reviews))\n",
    "        neutral = list(filter(lambda x: x.sentiment == Sentiment.Neutral, self.reviews))\n",
    "        positive_shrunk = positive[:len(negative)]\n",
    "        self.reviews = negative + positive_shrunk \n",
    "        random.shuffle(self.reviews)\n",
    "        "
   ]
  },
  {
   "cell_type": "code",
   "execution_count": 69,
   "id": "94e5843f",
   "metadata": {},
   "outputs": [],
   "source": [
    "import json\n",
    "file_name = './sklearn/data/Books_small_10000.json'\n",
    "review = []\n",
    "with open(file_name) as f:\n",
    "    for line in f:\n",
    "        text = json.loads(line)\n",
    "        review.append(Review(text['reviewText'], text['overall'])) # Getting only reviews and stars from the data\n"
   ]
  },
  {
   "cell_type": "markdown",
   "id": "f88aacd7",
   "metadata": {},
   "source": [
    "## Splitting data in test and training sets"
   ]
  },
  {
   "cell_type": "code",
   "execution_count": 70,
   "id": "238a3788",
   "metadata": {},
   "outputs": [],
   "source": [
    "### Data Preparation\n",
    "from sklearn.model_selection import train_test_split\n",
    "training, test = train_test_split(review, test_size = 0.30 , random_state = 42)\n",
    "train_container = ReviewContainer(training)\n",
    "test_container = ReviewContainer(test)"
   ]
  },
  {
   "cell_type": "code",
   "execution_count": 71,
   "id": "96f6b52e",
   "metadata": {},
   "outputs": [
    {
     "name": "stdout",
     "output_type": "stream",
     "text": [
      "461\n",
      "461\n",
      "0\n"
     ]
    }
   ],
   "source": [
    "## Splitting  Data\n",
    "#train_x = [item[0] for item in training] # Review\n",
    "#train_y = [item[1] for item in training] # Number of stars\n",
    "\n",
    "#test_x = [item[0] for item in test] # Review\n",
    "#test_y = [item[1] for item in test] # Number of stars\n",
    "train_container.evenly_distribute()\n",
    "train_x = train_container.get_text()\n",
    "train_y = train_container.get_sentiment()\n",
    "\n",
    "test_container.evenly_distribute()\n",
    "test_x = test_container.get_text()\n",
    "test_y = test_container.get_sentiment()\n",
    "\n",
    "print(train_y.count(Sentiment.Positive))\n",
    "print(train_y.count(Sentiment.Negative))\n",
    "print(train_y.count(Sentiment.Neutral))"
   ]
  },
  {
   "cell_type": "code",
   "execution_count": 86,
   "id": "29fa4f7d",
   "metadata": {},
   "outputs": [],
   "source": [
    "## Bag of words vectorization\n",
    "from sklearn.feature_extraction.text import TfidfVectorizer\n",
    "\n",
    "vectorizer = TfidfVectorizer()\n",
    "train_x_vector = vectorizer.fit_transform(train_x)\n",
    "test_x_vector = vectorizer.transform(test_x)\n"
   ]
  },
  {
   "cell_type": "markdown",
   "id": "80e7502e",
   "metadata": {},
   "source": [
    " # Classification\n",
    "### Linear SVM"
   ]
  },
  {
   "cell_type": "code",
   "execution_count": 87,
   "id": "00e1d692",
   "metadata": {},
   "outputs": [
    {
     "data": {
      "text/plain": [
       "array(['NEGATIVE'], dtype='<U8')"
      ]
     },
     "execution_count": 87,
     "metadata": {},
     "output_type": "execute_result"
    }
   ],
   "source": [
    "from sklearn import svm\n",
    "clf_svm = svm.SVC(kernel = 'linear')\n",
    "clf_svm.fit(train_x_vector, train_y)\n",
    "clf_svm.predict(test_x_vector[0])"
   ]
  },
  {
   "cell_type": "markdown",
   "id": "36948312",
   "metadata": {},
   "source": [
    "### Decision Tree"
   ]
  },
  {
   "cell_type": "code",
   "execution_count": 88,
   "id": "2ae7390c",
   "metadata": {},
   "outputs": [
    {
     "data": {
      "text/plain": [
       "array(['NEGATIVE'], dtype='<U8')"
      ]
     },
     "execution_count": 88,
     "metadata": {},
     "output_type": "execute_result"
    }
   ],
   "source": [
    "from sklearn import tree\n",
    "clf_dec = tree.DecisionTreeClassifier()\n",
    "clf_dec.fit(train_x_vector, train_y)\n",
    "clf_dec.predict(test_x_vector[0])"
   ]
  },
  {
   "cell_type": "markdown",
   "id": "68fc16b3",
   "metadata": {},
   "source": [
    "### Logistic Regression"
   ]
  },
  {
   "cell_type": "code",
   "execution_count": 89,
   "id": "0ae86bc5",
   "metadata": {},
   "outputs": [
    {
     "data": {
      "text/plain": [
       "array(['NEGATIVE'], dtype='<U8')"
      ]
     },
     "execution_count": 89,
     "metadata": {},
     "output_type": "execute_result"
    }
   ],
   "source": [
    "from sklearn.linear_model import LogisticRegression\n",
    "clf_log = LogisticRegression()\n",
    "clf_log.fit(train_x_vector, train_y)\n",
    "clf_svm.predict(test_x_vector[0])"
   ]
  },
  {
   "cell_type": "markdown",
   "id": "cbb8c6f2",
   "metadata": {},
   "source": [
    "## Evaluating The Model"
   ]
  },
  {
   "cell_type": "code",
   "execution_count": 90,
   "id": "403f513e",
   "metadata": {},
   "outputs": [
    {
     "name": "stdout",
     "output_type": "stream",
     "text": [
      "0.8387978142076503\n",
      "0.644808743169399\n",
      "0.8224043715846995\n"
     ]
    }
   ],
   "source": [
    "# Mean Accuracy\n",
    "print(clf_svm.score(test_x_vector,test_y))  \n",
    "print(clf_dec.score(test_x_vector,test_y))   \n",
    "print(clf_log.score(test_x_vector,test_y))\n"
   ]
  },
  {
   "cell_type": "code",
   "execution_count": 91,
   "id": "5107886f",
   "metadata": {},
   "outputs": [
    {
     "data": {
      "text/plain": [
       "array([0.82573727, 0.8189415 ])"
      ]
     },
     "execution_count": 91,
     "metadata": {},
     "output_type": "execute_result"
    }
   ],
   "source": [
    "# f1 score\n",
    "from sklearn.metrics import f1_score\n",
    "\n",
    "f1_score(test_y, clf_svm.predict(test_x_vector), average = None )\n",
    "f1_score(test_y, clf_dec.predict(test_x_vector), average = None ) \n",
    "f1_score(test_y, clf_log.predict(test_x_vector), average = None ) \n",
    "\n"
   ]
  },
  {
   "cell_type": "markdown",
   "id": "0e147315",
   "metadata": {},
   "source": [
    "### Testing"
   ]
  },
  {
   "cell_type": "code",
   "execution_count": 92,
   "id": "844d5e84",
   "metadata": {},
   "outputs": [
    {
     "data": {
      "text/plain": [
       "array(['NEGATIVE', 'NEGATIVE', 'NEGATIVE'], dtype='<U8')"
      ]
     },
     "execution_count": 92,
     "metadata": {},
     "output_type": "execute_result"
    }
   ],
   "source": [
    "\n",
    "test_set = ['okay okay', \"bad book do not buy\", 'horrible waste of time']\n",
    "new_test = vectorizer.transform(test_set)\n",
    "\n",
    "clf_svm.predict(new_test)"
   ]
  },
  {
   "cell_type": "markdown",
   "id": "03d09075",
   "metadata": {},
   "source": [
    "#### Models are performing good only for one case (when reviews are Positive)"
   ]
  },
  {
   "cell_type": "markdown",
   "id": "d39ac115",
   "metadata": {},
   "source": [
    "#### Issue: In test data we have very low numbers of Negative and Positive reviews"
   ]
  },
  {
   "cell_type": "markdown",
   "id": "7a331a88",
   "metadata": {},
   "source": [
    "## So , added more data with equal numbers of positive and negative reviews"
   ]
  },
  {
   "cell_type": "markdown",
   "id": "16633a5b",
   "metadata": {},
   "source": [
    "##\n",
    "\n",
    "## Tuning the SVM model using Grid Search Cross Validation"
   ]
  },
  {
   "cell_type": "code",
   "execution_count": 93,
   "id": "40313ea0",
   "metadata": {},
   "outputs": [
    {
     "data": {
      "text/plain": [
       "GridSearchCV(cv=5, estimator=SVC(),\n",
       "             param_grid={'C': (1, 4, 8, 16, 32), 'kernel': ('linear', 'rbf')})"
      ]
     },
     "execution_count": 93,
     "metadata": {},
     "output_type": "execute_result"
    }
   ],
   "source": [
    "from sklearn.model_selection import GridSearchCV\n",
    "\n",
    "parameters = {'kernel': ('linear', 'rbf'), 'C': (1,4,8,16,32)} # Providing different parameters to choose from\n",
    "\n",
    "svc = svm.SVC()\n",
    "clf = GridSearchCV(svc, parameters, cv=5)\n",
    "clf.fit(train_x_vector, train_y)"
   ]
  },
  {
   "cell_type": "code",
   "execution_count": 94,
   "id": "d754eb9d",
   "metadata": {},
   "outputs": [
    {
     "name": "stdout",
     "output_type": "stream",
     "text": [
      "0.8387978142076503\n"
     ]
    }
   ],
   "source": [
    "print(clf.score(test_x_vector,test_y))  ## Score Improved"
   ]
  },
  {
   "cell_type": "markdown",
   "id": "d521544b",
   "metadata": {},
   "source": [
    "## Saving Model"
   ]
  },
  {
   "cell_type": "code",
   "execution_count": 95,
   "id": "0bbe850d",
   "metadata": {},
   "outputs": [],
   "source": [
    "import pickle\n",
    "\n",
    "with open('./sklearn/sentiment_classifier.pkl', 'wb') as f:\n",
    "    pickle.dump(clf, f)"
   ]
  },
  {
   "cell_type": "markdown",
   "id": "6a9d0740",
   "metadata": {},
   "source": [
    "#### Loading Model"
   ]
  },
  {
   "cell_type": "code",
   "execution_count": 96,
   "id": "7aa6bc10",
   "metadata": {},
   "outputs": [],
   "source": [
    "with open('./sklearn/sentiment_classifier.pkl', 'rb') as f:\n",
    "    loaded_clf = pickle.load(f)"
   ]
  },
  {
   "cell_type": "code",
   "execution_count": null,
   "id": "fc8a6b20",
   "metadata": {},
   "outputs": [],
   "source": []
  },
  {
   "cell_type": "code",
   "execution_count": null,
   "id": "3bf469d4",
   "metadata": {},
   "outputs": [],
   "source": []
  }
 ],
 "metadata": {
  "kernelspec": {
   "display_name": "Python 3 (ipykernel)",
   "language": "python",
   "name": "python3"
  },
  "language_info": {
   "codemirror_mode": {
    "name": "ipython",
    "version": 3
   },
   "file_extension": ".py",
   "mimetype": "text/x-python",
   "name": "python",
   "nbconvert_exporter": "python",
   "pygments_lexer": "ipython3",
   "version": "3.9.12"
  }
 },
 "nbformat": 4,
 "nbformat_minor": 5
}
